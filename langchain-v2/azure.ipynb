{
 "cells": [
  {
   "cell_type": "code",
   "execution_count": 3,
   "metadata": {},
   "outputs": [],
   "source": [
    "import getpass\n",
    "import os\n",
    "\n",
    "os.environ[\"LANGCHAIN_TRACING_V2\"] = \"true\"\n",
    "os.environ[\"LANGCHAIN_API_KEY\"] = getpass.getpass(prompt=\"===LANGCHAIN_API_KEY===\")\n",
    "\n",
    "os.environ[\"AZURE_ENDPOINT_URL\"] = getpass.getpass(prompt=\"===AZURE_ENDPOINT_URL===\")\n",
    "os.environ[\"AZURE_ENDPOINT_API_KEY\"] = getpass.getpass(prompt=\"===AZURE_ENDPOINT_API_KEY===\")\n",
    "os.environ[\"AZURE_ENDPOINT_API_TYPE\"] = getpass.getpass(prompt=\"===AZURE_ENDPOINT_API_TYPE===\")"
   ]
  },
  {
   "cell_type": "code",
   "execution_count": 6,
   "metadata": {},
   "outputs": [],
   "source": [
    "from langchain_community.chat_models.azureml_endpoint import AzureMLChatOnlineEndpoint, CustomOpenAIChatContentFormatter\n",
    "\n",
    "llm = AzureMLChatOnlineEndpoint(\n",
    "    endpoint_url=os.getenv(\"AZURE_ENDPOINT_URL\"),\n",
    "    endpoint_api_key=os.getenv(\"AZURE_ENDPOINT_API_KEY\"),\n",
    "    endpoint_api_type=os.getenv(\"AZURE_ENDPOINT_API_TYPE\"),\n",
    "    content_formatter=CustomOpenAIChatContentFormatter()\n",
    ")"
   ]
  },
  {
   "cell_type": "code",
   "execution_count": 7,
   "metadata": {},
   "outputs": [
    {
     "data": {
      "text/plain": [
       "BaseMessage(content=\"As of now, the Collatz conjecture remains unsolved. It is one of the most famous unsolved problems in mathematics. It's a simple-to-understand problem, but it has resisted proof despite intense study. It has been checked on computers for large numbers but has not been proven or disproven for all positive integers. Therefore, it's hard to predict whether it will ever be solved or not. However, it's worth noting that the broader field of mathematics is continually evolving and discoveries are made frequently, so it's possible, though not guaranteed.\", response_metadata={'finish_reason': 'stop', 'logprobs': None}, type='assistant', id='run-8157d03b-f1b3-4240-83f7-6820f293f24d-0')"
      ]
     },
     "execution_count": 7,
     "metadata": {},
     "output_type": "execute_result"
    }
   ],
   "source": [
    "from langchain_core.messages import HumanMessage\n",
    "\n",
    "response = llm.invoke(\n",
    "    [HumanMessage(content=\"Will the Collatz conjecture ever be solved?\")]\n",
    ")\n",
    "response"
   ]
  },
  {
   "cell_type": "code",
   "execution_count": 8,
   "metadata": {},
   "outputs": [
    {
     "data": {
      "text/plain": [
       "BaseMessage(content='Hello! How can I assist you today?', response_metadata={'finish_reason': 'stop', 'logprobs': None}, type='assistant', id='run-fa77759f-931b-406e-a2cc-1fa7b7a379aa-0')"
      ]
     },
     "execution_count": 8,
     "metadata": {},
     "output_type": "execute_result"
    }
   ],
   "source": [
    "llm.invoke([HumanMessage(\"Hi!\")])"
   ]
  }
 ],
 "metadata": {
  "kernelspec": {
   "display_name": ".venv",
   "language": "python",
   "name": "python3"
  },
  "language_info": {
   "codemirror_mode": {
    "name": "ipython",
    "version": 3
   },
   "file_extension": ".py",
   "mimetype": "text/x-python",
   "name": "python",
   "nbconvert_exporter": "python",
   "pygments_lexer": "ipython3",
   "version": "3.9.6"
  }
 },
 "nbformat": 4,
 "nbformat_minor": 2
}
